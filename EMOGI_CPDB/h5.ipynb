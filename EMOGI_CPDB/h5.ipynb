{
 "cells": [
  {
   "cell_type": "code",
   "execution_count": 1,
   "metadata": {},
   "outputs": [],
   "source": [
    "import h5py"
   ]
  },
  {
   "cell_type": "code",
   "execution_count": 3,
   "metadata": {},
   "outputs": [
    {
     "name": "stderr",
     "output_type": "stream",
     "text": [
      "/tmp/ipykernel_36539/1525213654.py:1: H5pyDeprecationWarning: The default file mode will change to 'r' (read-only) in h5py 3.0. To suppress this warning, pass the mode you need to h5py.File(), or set the global default h5.get_config().default_file_mode, or set the environment variable H5PY_DEFAULT_READONLY=1. Available modes are: 'r', 'r+', 'w', 'w-'/'x', 'a'. See the docs for details.\n",
      "  f = h5py.File('CPDB_multiomics.h5')\n"
     ]
    },
    {
     "data": {
      "text/plain": [
       "<KeysViewHDF5 ['feature_names', 'features', 'features_raw', 'gene_names', 'mask_test', 'mask_train', 'mask_val', 'network', 'y_test', 'y_train', 'y_val']>"
      ]
     },
     "execution_count": 3,
     "metadata": {},
     "output_type": "execute_result"
    }
   ],
   "source": [
    "f = h5py.File('CPDB_multiomics.h5')\n",
    "f.keys()"
   ]
  },
  {
   "cell_type": "code",
   "execution_count": 7,
   "metadata": {},
   "outputs": [
    {
     "data": {
      "text/plain": [
       "array([['ENSG00000167323', 'STIM1'],\n",
       "       ['ENSG00000144935', 'TRPC1'],\n",
       "       ['ENSG00000089250', 'NOS1'],\n",
       "       ...,\n",
       "       ['ENSG00000183117', 'CSMD1'],\n",
       "       ['ENSG00000180828', 'BHLHE22'],\n",
       "       ['ENSG00000169618', 'PROKR1']], dtype=object)"
      ]
     },
     "execution_count": 7,
     "metadata": {},
     "output_type": "execute_result"
    }
   ],
   "source": [
    "f['gene_names'][:,:]"
   ]
  }
 ],
 "metadata": {
  "interpreter": {
   "hash": "5eae0457fe369ca3d169e6a76bcf0d32777de61ebbb74bffca6b43ee004d71b2"
  },
  "kernelspec": {
   "display_name": "Python 3.8.11 ('neoloop')",
   "language": "python",
   "name": "python3"
  },
  "language_info": {
   "codemirror_mode": {
    "name": "ipython",
    "version": 3
   },
   "file_extension": ".py",
   "mimetype": "text/x-python",
   "name": "python",
   "nbconvert_exporter": "python",
   "pygments_lexer": "ipython3",
   "version": "3.8.11"
  },
  "orig_nbformat": 4
 },
 "nbformat": 4,
 "nbformat_minor": 2
}
