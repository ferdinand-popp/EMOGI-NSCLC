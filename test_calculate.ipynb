{
 "cells": [
  {
   "cell_type": "code",
   "execution_count": 1,
   "metadata": {},
   "outputs": [],
   "source": [
    "import pandas as pd"
   ]
  },
  {
   "cell_type": "code",
   "execution_count": 3,
   "metadata": {},
   "outputs": [
    {
     "name": "stdout",
     "output_type": "stream",
     "text": [
      "                ID   Name  label  Prob_pos_1  Prob_pos_2  Prob_pos_3  \\\n",
      "0  ENSG00000100393  EP300   True         1.0         1.0         1.0   \n",
      "1  ENSG00000133703   KRAS   True         1.0         1.0         1.0   \n",
      "2  ENSG00000155657    TTN  False         1.0         1.0         1.0   \n",
      "3  ENSG00000284792   PTEN   True         1.0         1.0         1.0   \n",
      "4  ENSG00000039068   CDH1   True         1.0         1.0         1.0   \n",
      "\n",
      "   Prob_pos_4  Prob_pos_5  Prob_pos_6  Prob_pos_7  ...  Prob_pos_9  \\\n",
      "0         1.0         1.0         1.0         1.0  ...         1.0   \n",
      "1         1.0         1.0         1.0         1.0  ...         1.0   \n",
      "2         1.0         1.0         1.0         1.0  ...         1.0   \n",
      "3         1.0         1.0         1.0         1.0  ...         1.0   \n",
      "4         1.0         1.0         1.0         1.0  ...         1.0   \n",
      "\n",
      "   Prob_pos_10  Num_Pos  Mean_Pred  Std_Pred  NCG_Known_Cancer_Gene  \\\n",
      "0          1.0       10        1.0       0.0                   True   \n",
      "1          1.0       10        1.0       0.0                   True   \n",
      "2          1.0       10        1.0       0.0                  False   \n",
      "3          1.0       10        1.0       0.0                   True   \n",
      "4          1.0       10        1.0       0.0                   True   \n",
      "\n",
      "   NCG_Candidate_Cancer_Gene  OncoKB_Cancer_Gene  Bailey_et_al_Cancer_Gene  \\\n",
      "0                      False                True                      True   \n",
      "1                      False                True                      True   \n",
      "2                       True               False                     False   \n",
      "3                      False                True                      True   \n",
      "4                      False                True                      True   \n",
      "\n",
      "   ONGene_Oncogene  \n",
      "0            False  \n",
      "1             True  \n",
      "2            False  \n",
      "3            False  \n",
      "4             True  \n",
      "\n",
      "[5 rows x 21 columns]\n"
     ]
    }
   ],
   "source": [
    "data = pd.read_csv(\"ensemble_predictions.tsv\", sep='\\t')\n",
    "print(data.head())"
   ]
  }
 ],
 "metadata": {
  "kernelspec": {
   "display_name": "Python 3.8.12 ('neoloop')",
   "language": "python",
   "name": "python3"
  },
  "language_info": {
   "codemirror_mode": {
    "name": "ipython",
    "version": 3
   },
   "file_extension": ".py",
   "mimetype": "text/x-python",
   "name": "python",
   "nbconvert_exporter": "python",
   "pygments_lexer": "ipython3",
   "version": "3.8.12"
  },
  "orig_nbformat": 4,
  "vscode": {
   "interpreter": {
    "hash": "7cf1a5c18d92ac50818d8f715974906dda571792f562fe9b5b4871e62fef9634"
   }
  }
 },
 "nbformat": 4,
 "nbformat_minor": 2
}
